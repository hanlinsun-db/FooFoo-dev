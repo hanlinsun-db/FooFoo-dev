{
 "cells": [
  {
   "cell_type": "code",
   "execution_count": 0,
   "metadata": {
    "application/vnd.databricks.v1+cell": {
     "cellMetadata": {
      "byteLimit": 2048000,
      "rowLimit": 10000
     },
     "inputWidgets": {},
     "nuid": "7586a5e8-0ef0-4466-a27f-73cd92a35d59",
     "showTitle": false,
     "title": ""
    }
   },
   "outputs": [],
   "source": [
    "%sql\n",
    "select * from main.nyctaxi.trips"
   ]
  },
  {
   "cell_type": "code",
   "execution_count": 0,
   "metadata": {
    "application/vnd.databricks.v1+cell": {
     "cellMetadata": {
      "byteLimit": 2048000,
      "rowLimit": 10000
     },
     "inputWidgets": {},
     "nuid": "fcd22d22-e5a4-4fc5-b4fa-2a89539f8118",
     "showTitle": false,
     "title": ""
    }
   },
   "outputs": [],
   "source": [
    "# COMMAND ----------\n",
    "\n",
    "from databricks import feature_store\n",
    "from pyspark.sql.functions import *\n",
    "from pyspark.sql.types import FloatType, IntegerType, StringType\n",
    "from pytz import timezone\n",
    "\n",
    "\n",
    "@udf(returnType=IntegerType())\n",
    "def is_weekend(dt):\n",
    "    tz = \"America/New_York\"\n",
    "    return int(dt.astimezone(timezone(tz)).weekday() >= 5)  # 5 = Saturday, 6 = Sunday\n",
    "\n",
    "@udf(returnType=StringType())\n",
    "def partition_id(dt):\n",
    "    # datetime -> \"YYYY-MM\"\n",
    "    return f\"{dt.year:04d}-{dt.month:02d}\""
   ]
  },
  {
   "cell_type": "code",
   "execution_count": 0,
   "metadata": {
    "application/vnd.databricks.v1+cell": {
     "cellMetadata": {
      "byteLimit": 2048000,
      "rowLimit": 10000
     },
     "inputWidgets": {},
     "nuid": "d8494f0f-260f-4154-aab2-3745c16e19e3",
     "showTitle": false,
     "title": ""
    }
   },
   "outputs": [],
   "source": [
    "def filter_df_by_ts(df, ts_column, start_date, end_date):\n",
    "    if ts_column and start_date:\n",
    "        df = df.filter(col(ts_column) >= start_date)\n",
    "    if ts_column and end_date:\n",
    "        df = df.filter(col(ts_column) < end_date)\n",
    "    return df\n",
    "\n",
    "\n",
    "def pickup_features_fn(df, ts_column, start_date, end_date):\n",
    "    \"\"\"\n",
    "    Computes the pickup_features feature group.\n",
    "    To restrict features to a time range, pass in ts_column, start_date, and/or end_date as kwargs.\n",
    "    \"\"\"\n",
    "    df = filter_df_by_ts(\n",
    "        df, ts_column, start_date, end_date\n",
    "    )\n",
    "    pickupzip_features = (\n",
    "        df.groupBy(\n",
    "            \"pickup_zip\", window(\"tpep_pickup_datetime\", \"1 hour\", \"15 minutes\")\n",
    "        )  # 1 hour window, sliding every 15 minutes\n",
    "        .agg(\n",
    "            mean(\"fare_amount\").alias(\"mean_fare_window_1h_pickup_zip\"),\n",
    "            count(\"*\").alias(\"count_trips_window_1h_pickup_zip\"),\n",
    "        )\n",
    "        .select(\n",
    "            col(\"pickup_zip\").alias(\"zip\"),\n",
    "            unix_timestamp(col(\"window.end\")).alias(\"ts\").cast(IntegerType()),\n",
    "            partition_id(to_timestamp(col(\"window.end\"))).alias(\"yyyy_mm\"),\n",
    "            col(\"mean_fare_window_1h_pickup_zip\").cast(FloatType()),\n",
    "            col(\"count_trips_window_1h_pickup_zip\").cast(IntegerType()),\n",
    "        )\n",
    "    )\n",
    "    return pickupzip_features\n",
    "\n",
    "def dropoff_features_fn(df, ts_column, start_date, end_date):\n",
    "    \"\"\"\n",
    "    Computes the dropoff_features feature group.\n",
    "    To restrict features to a time range, pass in ts_column, start_date, and/or end_date as kwargs.\n",
    "    \"\"\"\n",
    "    df = filter_df_by_ts(\n",
    "        df,  ts_column, start_date, end_date\n",
    "    )\n",
    "    dropoffzip_features = (\n",
    "        df.groupBy(\"dropoff_zip\", window(\"tpep_dropoff_datetime\", \"30 minute\"))\n",
    "        .agg(count(\"*\").alias(\"count_trips_window_30m_dropoff_zip\"))\n",
    "        .select(\n",
    "            col(\"dropoff_zip\").alias(\"zip\"),\n",
    "            unix_timestamp(col(\"window.end\")).alias(\"ts\").cast(IntegerType()),\n",
    "            partition_id(to_timestamp(col(\"window.end\"))).alias(\"yyyy_mm\"),\n",
    "            col(\"count_trips_window_30m_dropoff_zip\").cast(IntegerType()),\n",
    "            is_weekend(col(\"window.end\")).alias(\"dropoff_is_weekend\"),\n",
    "        )\n",
    "    )\n",
    "    return dropoffzip_features\n"
   ]
  }
 ],
 "metadata": {
  "application/vnd.databricks.v1+notebook": {
   "dashboards": [],
   "language": "python",
   "notebookMetadata": {
    "pythonIndentUnit": 2
   },
   "notebookName": "FooFoo Taxi Notebook (1)",
   "widgets": {}
  }
 },
 "nbformat": 4,
 "nbformat_minor": 0
}
